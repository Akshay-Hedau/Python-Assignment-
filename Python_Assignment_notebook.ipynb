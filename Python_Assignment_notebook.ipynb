{
 "cells": [
  {
   "cell_type": "markdown",
   "metadata": {},
   "source": [
    "{ “metadata”: { “language_info”: { “codemirror_mode”: { “name”:\n",
    "“python”, “version”: 3 }, “file_extension”: “.py”, “mimetype”:\n",
    "“text/x-python”, “name”: “python”, “nbconvert_exporter”: “python”,\n",
    "“pygments_lexer”: “ipython3”, “version”: “3.8” }, “kernelspec”: {\n",
    "“name”: “python”, “display_name”: “Python (Pyodide)”, “language”:\n",
    "“python” } }, “nbformat_minor”: 4, “nbformat”: 4, “cells”: \\[ {\n",
    "“cell_type”: “code”, “source”: “import numpy as np”, “metadata”: {\n",
    "“trusted”: true }, “execution_count”: 1, “outputs”: \\[\\] }, {\n",
    "“cell_type”: “code”, “source”: “for i in range (1,101):if i%7==0 and\n",
    "i%3==0:print(\"FizzBuzz\")elif i%3==0:print(\"Fizz\")elif\n",
    "i%7==0:print(\"Buzz\")else :print(i)”, “metadata”: { “trusted”: true },\n",
    "“execution_count”: 8, “outputs”: \\[ { “name”: “stdout”, “text”: “1”,\n",
    "“output_type”: “stream” } \\] }, { “cell_type”: “code”, “source”:\n",
    "““,”metadata”: {}, “execution_count”: null, “outputs”: \\[\\] }, {\n",
    "“cell_type”: “code”, “source”: ““,”metadata”: {}, “execution_count”:\n",
    "null, “outputs”: \\[\\] }, { “cell_type”: “code”, “source”: ““,”metadata”:\n",
    "{}, “execution_count”: null, “outputs”: \\[\\] }, { “cell_type”: “code”,\n",
    "“source”: ““,”metadata”: {}, “execution_count”: null, “outputs”: \\[\\] }\n",
    "\\] }"
   ],
   "id": "42a14256-91c8-446e-92a7-ab6bf11055d3"
  }
 ],
 "nbformat": 4,
 "nbformat_minor": 5,
 "metadata": {}
}
