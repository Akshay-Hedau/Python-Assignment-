{
  "metadata": {
    "language_info": {
      "codemirror_mode": {
        "name": "python",
        "version": 3
      },
      "file_extension": ".py",
      "mimetype": "text/x-python",
      "name": "python",
      "nbconvert_exporter": "python",
      "pygments_lexer": "ipython3",
      "version": "3.8"
    },
    "kernelspec": {
      "name": "python",
      "display_name": "Python (Pyodide)",
      "language": "python"
    }
  },
  "nbformat_minor": 4,
  "nbformat": 4,
  "cells": [
    {
      "cell_type": "markdown",
      "source": "Write a python program that prints the numbers from 1 to 100. But for multiples of seven, print \"Fizz\" instead of the number, and for the multiples of three, print \"Buzz\". For numbers which are multiples of both three and seven, print \"FizzBuzz\".",
      "metadata": {}
    },
    {
      "cell_type": "code",
      "source": "for i in range(1,101):\n    if i%3==0 and i%7==0:\n        print(\"FizzBuzz\")\n    elif i%3==0:\n        print(\"Buzz\")\n    elif i%7==0:\n        print(\"Fizz\")\n    else :\n        print(i)",
      "metadata": {
        "trusted": true
      },
      "execution_count": 1,
      "outputs": [
        {
          "name": "stdout",
          "text": "1\n2\nBuzz\n4\n5\nBuzz\nFizz\n8\nBuzz\n10\n11\nBuzz\n13\nFizz\nBuzz\n16\n17\nBuzz\n19\n20\nFizzBuzz\n22\n23\nBuzz\n25\n26\nBuzz\nFizz\n29\nBuzz\n31\n32\nBuzz\n34\nFizz\nBuzz\n37\n38\nBuzz\n40\n41\nFizzBuzz\n43\n44\nBuzz\n46\n47\nBuzz\nFizz\n50\nBuzz\n52\n53\nBuzz\n55\nFizz\nBuzz\n58\n59\nBuzz\n61\n62\nFizzBuzz\n64\n65\nBuzz\n67\n68\nBuzz\nFizz\n71\nBuzz\n73\n74\nBuzz\n76\nFizz\nBuzz\n79\n80\nBuzz\n82\n83\nFizzBuzz\n85\n86\nBuzz\n88\n89\nBuzz\nFizz\n92\nBuzz\n94\n95\nBuzz\n97\nFizz\nBuzz\n100\n",
          "output_type": "stream"
        }
      ]
    },
    {
      "cell_type": "code",
      "source": "",
      "metadata": {},
      "execution_count": null,
      "outputs": []
    }
  ]
}